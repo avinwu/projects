{
  "cells": [
    {
      "cell_type": "markdown",
      "metadata": {
        "id": "view-in-github",
        "colab_type": "text"
      },
      "source": [
        "<a href=\"https://colab.research.google.com/github/avinwu/projects/blob/main/Marketing_Bank_Product_Target_Marketing.ipynb\" target=\"_parent\"><img src=\"https://colab.research.google.com/assets/colab-badge.svg\" alt=\"Open In Colab\"/></a>"
      ]
    },
    {
      "metadata": {
        "id": "FDlxnN9dH_aG"
      },
      "cell_type": "markdown",
      "source": [
        "# <center> Bank Product Target Marketing"
      ]
    },
    {
      "metadata": {
        "id": "Z6CClQAfH_aJ"
      },
      "cell_type": "markdown",
      "source": [
        "# Table of Contents\n",
        "\n",
        "1. **[Project Background](#1)**\n",
        "2. **[Data Cleaning](#2)**\n",
        "3. **[Exploratory Data Analysis](#3)**\n",
        "4. **[Data Visualization](#4)**\n",
        "5. **[Machine Learning: Classification](#5)**\n",
        "6. **[Machine Learning: Regression](#6)**\n",
        "7. **[Conclusion & Recommendations](#7)**"
      ]
    },
    {
      "metadata": {
        "id": "xpSGZrYSH_aK"
      },
      "cell_type": "markdown",
      "source": [
        "# Part 1. Project Background"
      ]
    },
    {
      "metadata": {
        "id": "9BGqyLaAH_aK"
      },
      "cell_type": "markdown",
      "source": [
        "Nowadays, marketing spending in the banking industry is massive, meaning that it is essential for banks to optimize marketing strategies and improve effectiveness. Understanding customers’ need leads to more effective marketing plans, smarter product designs and greater customer satisfaction."
      ]
    },
    {
      "metadata": {
        "id": "I7xXW3GHH_aL"
      },
      "cell_type": "markdown",
      "source": [
        "### Main Objective: increase the effectiveness of the bank's telemarketing campaign\n",
        "This project will enable the bank to develop a more granular understanding of its customer base, predict customers' response to its telemarketing campaign and establish a target customer profile for future marketing plans.\n",
        "\n",
        "By analyzing customer features, such as demographics and transaction history, the bank will be able to predict customer saving behaviours and identify which type of customers is more likely to make term deposits. The bank can then focus its marketing efforts on those customers. This will not only allow the bank to secure deposits more effectively but also increase customer satisfaction by reducing undesirable advertisements for certain customers."
      ]
    },
    {
      "metadata": {
        "id": "mf4XWsrbH_aL"
      },
      "cell_type": "markdown",
      "source": [
        "# Part 2. Data Cleaning <a id=\"2\"></a>"
      ]
    },
    {
      "metadata": {
        "id": "4ho0xFjUH_aM"
      },
      "cell_type": "markdown",
      "source": [
        "## Load the raw data"
      ]
    },
    {
      "metadata": {
        "id": "X7mZnJ7XH_aM"
      },
      "cell_type": "markdown",
      "source": [
        "This dataset is about the direct phone call marketing campaigns, which aim to promote term deposits among existing customers, by a Portuguese banking institution from May 2008 to November 2010. It is publicly available in the UCI Machine learning Repository, which can be retrieved from http://archive.ics.uci.edu/ml/datasets/Bank+Marketing#."
      ]
    },
    {
      "metadata": {
        "trusted": false,
        "id": "zmm7JlXzH_aM"
      },
      "cell_type": "code",
      "source": [
        "import pandas as pd\n",
        "import numpy as np\n",
        "from pandas import read_csv\n",
        "import matplotlib.pyplot as plt\n",
        "import warnings\n",
        "warnings.filterwarnings('ignore')\n",
        "import os\n",
        "\n",
        "linkname = '../input/bank-full.csv'\n",
        "dataset1 = pd.read_csv(linkname, sep = ';')"
      ],
      "execution_count": null,
      "outputs": []
    },
    {
      "metadata": {
        "id": "mxgoUa9uH_aN"
      },
      "cell_type": "markdown",
      "source": [
        "There are 41,188 observations in this dataset. Each represents an existing customer that the bank reached via phone calls.\n",
        "* For each observation, the dataset records **16 input variables** that stand for both qualitative and quantitative attributes of the customer, such as age, job, housing and personal loan status, account balance, and the number of contacts.\n",
        "* There is **a single binary output variable** that denotes “yes” or “no” revealing the outcomes of the phone calls."
      ]
    },
    {
      "metadata": {
        "trusted": false,
        "id": "Ah8ng4LdH_aN"
      },
      "cell_type": "code",
      "source": [
        "# View the first 5 rows in the dataset\n",
        "dataset1.head()"
      ],
      "execution_count": null,
      "outputs": []
    },
    {
      "metadata": {
        "id": "cpFJ-RzdH_aO"
      },
      "cell_type": "markdown",
      "source": [
        "## Clean the dataset"
      ]
    },
    {
      "metadata": {
        "id": "HhHaII_rH_aO"
      },
      "cell_type": "markdown",
      "source": [
        "### 2.1 Deal with missing data"
      ]
    },
    {
      "metadata": {
        "id": "5i2H_AlwH_aO"
      },
      "cell_type": "markdown",
      "source": [
        "There is no missing value in this dataset. Nevertheless, there are values like “unknown”, “others”, which are helpless just like missing values. Thus, these ambiguous values are removed from the dataset."
      ]
    },
    {
      "metadata": {
        "trusted": false,
        "id": "xBVvbQj9H_aO"
      },
      "cell_type": "code",
      "source": [
        "# Step 1: Delete the rows which colume 'poutcome' contains 'other'\n",
        "condition = dataset1.poutcome == 'other'\n",
        "dataset2 = dataset1.drop(dataset1[condition].index, axis = 0, inplace = False)"
      ],
      "execution_count": null,
      "outputs": []
    },
    {
      "metadata": {
        "scrolled": true,
        "trusted": false,
        "id": "mifkVxHbH_aO"
      },
      "cell_type": "code",
      "source": [
        "# Step 2: Fill 'unknown' in job and education to 'other'\n",
        "dataset2[['job','education']] = dataset2[['job','education']].replace(['unknown'],'other')"
      ],
      "execution_count": null,
      "outputs": []
    },
    {
      "metadata": {
        "id": "80mdIBLWH_aO"
      },
      "cell_type": "markdown",
      "source": [
        "### 2.2 Drop outliers in the column 'balance'"
      ]
    },
    {
      "metadata": {
        "id": "17hntsyGH_aO"
      },
      "cell_type": "markdown",
      "source": [
        "In order to capture the general trend in the dataset, outliers in the column “balance” are dropped. Outliers are defined as the values which are more than three standard deviations away from the mean.\n",
        "In sum, 2556 rows of data were removed."
      ]
    },
    {
      "metadata": {
        "trusted": false,
        "id": "tO9qU39fH_aO"
      },
      "cell_type": "code",
      "source": [
        "from scipy.stats import zscore\n",
        "\n",
        "dataset2[['balance']].mean()\n",
        "dataset2[['balance']].mean()\n",
        "\n",
        "dataset2['balance_outliers'] = dataset2['balance']\n",
        "dataset2['balance_outliers']= zscore(dataset2['balance_outliers'])\n",
        "\n",
        "condition1 = (dataset2['balance_outliers']>3) | (dataset2['balance_outliers']<-3 )\n",
        "dataset3 = dataset2.drop(dataset2[condition1].index, axis = 0, inplace = False)"
      ],
      "execution_count": null,
      "outputs": []
    },
    {
      "metadata": {
        "trusted": false,
        "id": "wPFynL9bH_aP"
      },
      "cell_type": "code",
      "source": [
        "dataset4 = dataset3.drop('balance_outliers', axis=1)"
      ],
      "execution_count": null,
      "outputs": []
    },
    {
      "metadata": {
        "id": "6U-HWOYtH_aP"
      },
      "cell_type": "markdown",
      "source": [
        "### 2.3 Creating and transforming data"
      ]
    },
    {
      "metadata": {
        "id": "w3k08QUPH_aP"
      },
      "cell_type": "markdown",
      "source": [
        "Some changes were made to the column name, units and data types for easier analysis."
      ]
    },
    {
      "metadata": {
        "trusted": false,
        "id": "bd6UIlIlH_aP"
      },
      "cell_type": "code",
      "source": [
        "# Step 1: Change column name: 'y' to 'response'\n",
        "dataset4.rename(index=str, columns={'y': 'response'}, inplace = True)\n",
        "\n",
        "def convert(dataset4, new_column, old_column):\n",
        "    dataset4[new_column] = dataset4[old_column].apply(lambda x: 0 if x == 'no' else 1)\n",
        "    return dataset4[new_column].value_counts()\n",
        "\n",
        "convert(dataset4, \"response_binary\", \"response\")"
      ],
      "execution_count": null,
      "outputs": []
    },
    {
      "metadata": {
        "trusted": false,
        "id": "rB4IR052H_aP"
      },
      "cell_type": "code",
      "source": [
        "# Step 2: Drop column \"contact\" which is useless\n",
        "dataset5 = dataset4.drop('contact', axis=1)"
      ],
      "execution_count": null,
      "outputs": []
    },
    {
      "metadata": {
        "trusted": false,
        "id": "UFDZyhVXH_aP"
      },
      "cell_type": "code",
      "source": [
        "# Step 3: Change the unit of 'duration' from seconds to minutes\n",
        "dataset5['duration'] = dataset5['duration'].apply(lambda n:n/60).round(2)"
      ],
      "execution_count": null,
      "outputs": []
    },
    {
      "metadata": {
        "trusted": false,
        "id": "v63ceuZ4H_aP"
      },
      "cell_type": "code",
      "source": [
        "# Step 4: Change 'month' from words to numbers for easier analysis\n",
        "lst = [dataset5]\n",
        "for column in lst:\n",
        "    column.loc[column[\"month\"] == \"jan\", \"month_int\"] = 1\n",
        "    column.loc[column[\"month\"] == \"feb\", \"month_int\"] = 2\n",
        "    column.loc[column[\"month\"] == \"mar\", \"month_int\"] = 3\n",
        "    column.loc[column[\"month\"] == \"apr\", \"month_int\"] = 4\n",
        "    column.loc[column[\"month\"] == \"may\", \"month_int\"] = 5\n",
        "    column.loc[column[\"month\"] == \"jun\", \"month_int\"] = 6\n",
        "    column.loc[column[\"month\"] == \"jul\", \"month_int\"] = 7\n",
        "    column.loc[column[\"month\"] == \"aug\", \"month_int\"] = 8\n",
        "    column.loc[column[\"month\"] == \"sep\", \"month_int\"] = 9\n",
        "    column.loc[column[\"month\"] == \"oct\", \"month_int\"] = 10\n",
        "    column.loc[column[\"month\"] == \"nov\", \"month_int\"] = 11\n",
        "    column.loc[column[\"month\"] == \"dec\", \"month_int\"] = 12"
      ],
      "execution_count": null,
      "outputs": []
    },
    {
      "metadata": {
        "id": "WAKyIuFmH_aP"
      },
      "cell_type": "markdown",
      "source": [
        "### 2.4 Filtering"
      ]
    },
    {
      "metadata": {
        "trusted": false,
        "id": "mM-sdpH5H_aP"
      },
      "cell_type": "code",
      "source": [
        "# Step 1: Drop rows that 'duration' < 5s\n",
        "condition2 = (dataset5['duration']<5/60)\n",
        "dataset6 = dataset5.drop(dataset5[condition2].index, axis = 0, inplace = False)"
      ],
      "execution_count": null,
      "outputs": []
    },
    {
      "metadata": {
        "trusted": false,
        "id": "Gr2ncmK6H_aQ"
      },
      "cell_type": "code",
      "source": [
        "# Step 2: Drop customer values with 'other' education\n",
        "condition3 = (dataset6['education'] == 'other')\n",
        "dataset7 = dataset6.drop(dataset6[condition3].index, axis = 0, inplace = False)"
      ],
      "execution_count": null,
      "outputs": []
    },
    {
      "metadata": {
        "id": "ayQesVXkH_aQ"
      },
      "cell_type": "markdown",
      "source": [
        "# Part 3. Exploratory Data Analysis <a id=\"3\"></a>"
      ]
    },
    {
      "metadata": {
        "id": "KLCMwseNH_aQ"
      },
      "cell_type": "markdown",
      "source": [
        "To obtain a better understanding of the dataset, the distribution of key variables and the relationships among them were plotted."
      ]
    },
    {
      "metadata": {
        "id": "_ASnKiNdH_aQ"
      },
      "cell_type": "markdown",
      "source": [
        "### 3.1 Visualize the distribution of 'age' and 'balance'"
      ]
    },
    {
      "metadata": {
        "trusted": false,
        "id": "MIFZsCkZH_aQ"
      },
      "cell_type": "code",
      "source": [
        "dist_age_balance = plt.figure(figsize = (10,6))\n",
        "\n",
        "ra1 = dist_age_balance.add_subplot(1,2,1)\n",
        "ra2 = dist_age_balance.add_subplot(1,2,2)\n",
        "\n",
        "ra1.hist(dataset7['age'])\n",
        "ra1.set_title('The Distribution of Age')\n",
        "\n",
        "ra2.hist(dataset7['balance'], color = 'skyblue')\n",
        "ra2.set_title('The Distribution of Balance')\n",
        "\n",
        "plt.tight_layout()\n",
        "plt.show()"
      ],
      "execution_count": null,
      "outputs": []
    },
    {
      "metadata": {
        "id": "W5qb0WqzH_aQ"
      },
      "cell_type": "markdown",
      "source": [
        "**The distribution of age**: In its telemarketing campaigns, clients called by the bank have an extensive age range, from 18 to 95 years old. However, a majority of customers called is in the age of 30s and 40s (33 to 48 years old fall within the 25th to 75th percentiles). The distribution of customer age is fairly normal with a small standard deviation."
      ]
    },
    {
      "metadata": {
        "id": "qNlfiqM7H_aQ"
      },
      "cell_type": "markdown",
      "source": [
        "**The distribution of balance**: After dropping outliers in balance, the range of balance is still massive, from a minimum of -6847 to a maximum of 10443 euros, giving a range of 17290 euros. The distribution of balance has a huge standard deviation relative to the mean, suggesting large variabilities in customers' balance levels."
      ]
    },
    {
      "metadata": {
        "id": "1u5dYOCnH_aQ"
      },
      "cell_type": "markdown",
      "source": [
        "### 3.2 Visualize the relationship between 'age' and 'balance'"
      ]
    },
    {
      "metadata": {
        "scrolled": false,
        "trusted": false,
        "id": "jvgzgPF6H_aQ"
      },
      "cell_type": "code",
      "source": [
        "scatter_age_balance = dataset7.plot.scatter('age','balance',figsize = (7,5))\n",
        "\n",
        "plt.title('The Relationship between Age and Balance ')\n",
        "plt.show()"
      ],
      "execution_count": null,
      "outputs": []
    },
    {
      "metadata": {
        "id": "r-oE4vPpH_aR"
      },
      "cell_type": "markdown",
      "source": [
        "Based on this scatter plot, there is no clear relationship between client’s age and balance level.\n",
        "\n",
        "Nevertheless, over the age of 60, clients tend to have a significantly lower balance, mostly under 5,000 euros. This is due to the fact that most people retire after 60 and no longer have a reliable income source."
      ]
    },
    {
      "metadata": {
        "id": "MGRxTqFvH_aR"
      },
      "cell_type": "markdown",
      "source": [
        "### 3.3 Visualize the distribution of 'duration' & 'campaign'"
      ]
    },
    {
      "metadata": {
        "scrolled": true,
        "trusted": false,
        "id": "yzpRPFpwH_aR"
      },
      "cell_type": "code",
      "source": [
        "dist_dur_cam = dataset7[['duration','campaign']].plot(kind = 'box',\n",
        "                                                      figsize = (8,8),\n",
        "                                                      subplots = True, layout = (1,2),\n",
        "                                                      sharex = False, sharey = False,\n",
        "                                                      title='The Distribution of Duration and Campaign')\n",
        "plt.show()"
      ],
      "execution_count": null,
      "outputs": []
    },
    {
      "metadata": {
        "id": "zfTJYoNVH_aR"
      },
      "cell_type": "markdown",
      "source": [
        "**The distribution of duration**: As observed from the box plot, the duration of contact has a median of 3 minutes, with an interquartile range of 1.73 minutes to 5.3 minutes. The left-skewed boxplot indicates that most calls are relatively short. Also, there is a large number of outliers ranging from 10 minutes to 40 minutes, which are worth further study."
      ]
    },
    {
      "metadata": {
        "id": "T9c-qTDkH_aS"
      },
      "cell_type": "markdown",
      "source": [
        "**The distribution of campagin**: About half of the clients have been contacted by the bank for the second time, while 25% was first introduced to the term deposit. Most clients have been reached by the bank for one to three times, which is reasonable. However, some clients have been contacted by as high as 58 times, which is not normal. These clients may have some special needs that require frequent contact."
      ]
    },
    {
      "metadata": {
        "id": "BCsq16fAH_aS"
      },
      "cell_type": "markdown",
      "source": [
        "### 3.4 Visualize the relationship between 'duration' & 'campaign': with response result"
      ]
    },
    {
      "metadata": {
        "trusted": false,
        "id": "jOExRppCH_aS"
      },
      "cell_type": "code",
      "source": [
        "import seaborn as sns\n",
        "dur_cam = sns.lmplot(x='duration', y='campaign',data = dataset7,\n",
        "                     hue = 'response',\n",
        "                     fit_reg = False,\n",
        "                     scatter_kws={'alpha':0.6}, height =7)\n",
        "\n",
        "plt.axis([0,65,0,65])\n",
        "plt.ylabel('Number of Calls')\n",
        "plt.xlabel('Duration of Calls (Minutes)')\n",
        "plt.title('The Relationship between the Number and Duration of Calls (with Response Result)')\n",
        "\n",
        "# Annotation\n",
        "plt.axhline(y=5, linewidth=2, color=\"k\", linestyle='--')\n",
        "plt.annotate('Higher subscription rate when calls <5',xytext = (35,13),\n",
        "             arrowprops=dict(color = 'k', width=1),xy=(30,6))\n",
        "plt.show()"
      ],
      "execution_count": null,
      "outputs": []
    },
    {
      "metadata": {
        "id": "o1ceWRSRH_aS"
      },
      "cell_type": "markdown",
      "source": [
        "In this scatter plot, clients subscribed to term deposits are denoted as \"yes\" while those did not are denoted as \"no\".\n",
        "\n",
        "As we can see from the plot, “yes” clients and “no” clients are forming two relatively separate clusters. Compared to “no” clients”, “yes” clients were contacted by fewer times and had longer call duration. More importantly, after five campaign calls, clients are more likely to reject the term deposit unless the duration is high. Most “yes” clients were approached by less than 10 times.\n",
        "\n",
        "This suggests that the bank should resist calling a client for more than five times, which can be disturbing and increase dissatisfaction."
      ]
    },
    {
      "metadata": {
        "id": "3VRyYg-YH_aS"
      },
      "cell_type": "markdown",
      "source": [
        "### 3.5 Scatter matrix and Correlation matrix"
      ]
    },
    {
      "metadata": {
        "scrolled": true,
        "trusted": false,
        "id": "YXLrsjQAH_aS"
      },
      "cell_type": "code",
      "source": [
        "from pandas.plotting import scatter_matrix\n",
        "matrix = scatter_matrix(dataset7[['age','balance','duration','campaign']],figsize=(10,8))\n",
        "\n",
        "plt.suptitle('The Scatter Matrix of Age, Balance, Duration and Campaign')\n",
        "plt.show()"
      ],
      "execution_count": null,
      "outputs": []
    },
    {
      "metadata": {
        "collapsed": true,
        "trusted": false,
        "id": "boSf_ADPH_aS"
      },
      "cell_type": "code",
      "source": [
        "corr_data = dataset7[['age','balance','duration','campaign','month_int','previous','response_binary']]\n",
        "corr = corr_data.corr()\n",
        "\n",
        "cor_plot = sns.heatmap(corr,annot=True,cmap='RdYlGn',linewidths=0.2,annot_kws={'size':10})\n",
        "fig=plt.gcf()\n",
        "fig.set_size_inches(6,5)\n",
        "plt.xticks(fontsize=10,rotation=-30)\n",
        "plt.yticks(fontsize=10)\n",
        "plt.title('Correlation Matrix')\n",
        "plt.show()"
      ],
      "execution_count": null,
      "outputs": []
    },
    {
      "metadata": {
        "id": "r8I1jpQRH_aS"
      },
      "cell_type": "markdown",
      "source": [
        "The scatter matrix does not reveal any clear relationship among age, balance, duration and campaign.\n",
        "\n",
        "To investigate more about correlation, a correlation matrix was plotted with all qualitative variables. Clearly, “campaign outcome” has a strong correlation with “duration”, a moderate correlation with “previous contacts”, and mild correlations between “balance”, “month of contact” and “number of campaign”. Their influences on campaign outcome will be investigated further in the machine learning part."
      ]
    },
    {
      "metadata": {
        "id": "OrdTv1WTH_aT"
      },
      "cell_type": "markdown",
      "source": [
        "# Part 4. Data Visualization <a id=\"4\"></a>"
      ]
    },
    {
      "metadata": {
        "id": "tYPAUM_xH_aT"
      },
      "cell_type": "markdown",
      "source": [
        "With a sound knowledge of the distribution of key variables, further analysis of each customer characteristic can be carried out to investigate its influence on the subscription rate."
      ]
    },
    {
      "metadata": {
        "id": "W9D5OwDYH_aT"
      },
      "cell_type": "markdown",
      "source": [
        "### 4.1 Visualize the subscription and contact rate by age"
      ]
    },
    {
      "metadata": {
        "trusted": false,
        "id": "4hFqOK81H_aT"
      },
      "cell_type": "code",
      "source": [
        "lst = [dataset7]\n",
        "for column in lst:\n",
        "    column.loc[column[\"age\"] < 30,  'age_group'] = 20\n",
        "    column.loc[(column[\"age\"] >= 30) & (column[\"age\"] <= 39), 'age_group'] = 30\n",
        "    column.loc[(column[\"age\"] >= 40) & (column[\"age\"] <= 49), 'age_group'] = 40\n",
        "    column.loc[(column[\"age\"] >= 50) & (column[\"age\"] <= 59), 'age_group'] = 50\n",
        "    column.loc[column[\"age\"] >= 60, 'age_group'] = 60"
      ],
      "execution_count": null,
      "outputs": []
    },
    {
      "metadata": {
        "scrolled": true,
        "trusted": false,
        "id": "F3peDMLdH_aT"
      },
      "cell_type": "code",
      "source": [
        "count_age_response_pct = pd.crosstab(dataset7['response'],dataset7['age_group']).apply(lambda x: x/x.sum() * 100)\n",
        "count_age_response_pct = count_age_response_pct.transpose()"
      ],
      "execution_count": null,
      "outputs": []
    },
    {
      "metadata": {
        "trusted": false,
        "id": "Lv53jZZPH_aT"
      },
      "cell_type": "code",
      "source": [
        "age = pd.DataFrame(dataset7['age_group'].value_counts())\n",
        "age['% Contacted'] = age['age_group']*100/age['age_group'].sum()\n",
        "age['% Subscription'] = count_age_response_pct['yes']\n",
        "age.drop('age_group',axis = 1,inplace = True)\n",
        "\n",
        "age['age'] = [30,40,50,20,60]\n",
        "age = age.sort_values('age',ascending = True)"
      ],
      "execution_count": null,
      "outputs": []
    },
    {
      "metadata": {
        "trusted": false,
        "id": "761uhH4zH_aT"
      },
      "cell_type": "code",
      "source": [
        "plot_age = age[['% Subscription','% Contacted']].plot(kind = 'bar',\n",
        "                                              figsize=(8,6), color = ('green','red'))\n",
        "plt.xlabel('Age Group')\n",
        "plt.ylabel('Subscription Rate')\n",
        "plt.xticks(np.arange(5), ('<30', '30-39', '40-49', '50-59', '60+'),rotation = 'horizontal')\n",
        "plt.title('Subscription vs. Contact Rate by Age')\n",
        "plt.show()"
      ],
      "execution_count": null,
      "outputs": []
    },
    {
      "metadata": {
        "id": "lFYB-snqH_aT"
      },
      "cell_type": "markdown",
      "source": [
        "**Insights: target the youngest and the oldest instead of the middle-aged**\n",
        "\n",
        "Green vertical bars indicate that clients with a age of 60+ have the highest subscription rate. About 17% of the subscriptions came from the clients aged between 18 to 29. More than 50% of the subscriptions are contributed by the youngest and the eldest clients.\n",
        "\n",
        "* It is not surprising to see such a pattern because the main investment objective of older people is saving for retirement while the middle-aged group tend to be more aggressive with a main objective of generating high investment income. Term deposits, as the least risky investment tool, are more preferable to the eldest.\n",
        "\n",
        "\n",
        "* The youngest may not have enough money or professional knowledge to engage in sophisticated investments, such as stocks and mutual funds. Term deposits provide liquidity and generate interest incomes that are higher than the regular saving account, so term deposits are ideal investments for students.\n",
        "\n",
        "However, red vertical bars show that the bank focused its marketing efforts on the middle-aged group, which returned lower subscription rates than the younger and older groups. Thus, to make the marketing campaign more effective, the bank should target younger and older clients in the future."
      ]
    },
    {
      "metadata": {
        "id": "E2imhVAPH_aU"
      },
      "cell_type": "markdown",
      "source": [
        "### 4.2 Visualize the subscription rate by balance level"
      ]
    },
    {
      "metadata": {
        "trusted": false,
        "id": "BnbrMrQMH_aU"
      },
      "cell_type": "code",
      "source": [
        "lst = [dataset7]\n",
        "for column in lst:\n",
        "    column.loc[column[\"balance\"] <= 0,  'balance_group'] = 'no balance'\n",
        "    column.loc[(column[\"balance\"] > 0) & (column[\"balance\"] <= 1000), 'balance_group'] = 'low balance'\n",
        "    column.loc[(column[\"balance\"] > 1000) & (column[\"balance\"] <= 5000), 'balance_group'] = 'average balance'\n",
        "    column.loc[(column[\"balance\"] > 5000), 'balance_group'] = 'high balance'"
      ],
      "execution_count": null,
      "outputs": []
    },
    {
      "metadata": {
        "scrolled": false,
        "trusted": false,
        "id": "tP8TexCzH_aU"
      },
      "cell_type": "code",
      "source": [
        "count_balance_response_pct = pd.crosstab(dataset7['response'],dataset7['balance_group']).apply(lambda x: x/x.sum() * 100)\n",
        "count_balance_response_pct = count_balance_response_pct.transpose()"
      ],
      "execution_count": null,
      "outputs": []
    },
    {
      "metadata": {
        "trusted": false,
        "id": "QLYRm_jHH_aU"
      },
      "cell_type": "code",
      "source": [
        "bal = pd.DataFrame(dataset7['balance_group'].value_counts())\n",
        "bal['% Contacted'] = bal['balance_group']*100/bal['balance_group'].sum()\n",
        "bal['% Subscription'] = count_balance_response_pct['yes']\n",
        "bal.drop('balance_group',axis = 1,inplace = True)\n",
        "\n",
        "bal['bal'] = [1,2,0,3]\n",
        "bal = bal.sort_values('bal',ascending = True)"
      ],
      "execution_count": null,
      "outputs": []
    },
    {
      "metadata": {
        "scrolled": true,
        "trusted": false,
        "id": "m5PR7XJ9H_aU"
      },
      "cell_type": "code",
      "source": [
        "plot_balance = bal[['% Subscription','% Contacted']].plot(kind = 'bar',\n",
        "                                               color = ('royalblue','skyblue'),\n",
        "                                               figsize = (8,6))\n",
        "\n",
        "plt.title('Subscription vs Contact Rate by Balance Level')\n",
        "plt.ylabel('Subscription Rate')\n",
        "plt.xlabel('Balance Category')\n",
        "plt.xticks(rotation = 'horizontal')\n",
        "\n",
        "# label the bar\n",
        "for rec, label in zip(plot_balance.patches,\n",
        "                      bal['% Subscription'].round(1).astype(str)):\n",
        "    plot_balance.text(rec.get_x() + rec.get_width()/2,\n",
        "                      rec.get_height() + 1,\n",
        "                      label+'%',\n",
        "                      ha = 'center',\n",
        "                      color = 'black')"
      ],
      "execution_count": null,
      "outputs": []
    },
    {
      "metadata": {
        "id": "5-NlveziH_aU"
      },
      "cell_type": "markdown",
      "source": [
        "**Insights: target clients with average or high balance**\n",
        "\n",
        "To identify the trend more easily, clients are categorized into four groups based on their levels of balance:\n",
        "* No Balance: clients with a negative balance.\n",
        "* Low Balance: clients with a balance between 0 and 1000 euros\n",
        "* Average Balance: clients with a balance between 1000 and 5000 euros.\n",
        "* High Balance: clients with a balance greater than 5000 euros.\n",
        "\n",
        "\n",
        "Unsurprisingly, this bar chart indicates a positive correlation between clients’ balance levels and subscription rate. Clients with negative balances only returned a subscription rate of 6.9% while clients with average or high balances had significantly higher subscription rates, nearly 15%.\n",
        "\n",
        "However, in this campaign, more than 50% of clients contacted only have a low balance level. In the future, the bank should shift its marketing focus to high-balance customers to secure more term deposits."
      ]
    },
    {
      "metadata": {
        "id": "4hSVo4UBH_aU"
      },
      "cell_type": "markdown",
      "source": [
        "### 4.3 Visualize the subscription rate by age and balance"
      ]
    },
    {
      "metadata": {
        "trusted": false,
        "id": "G6zB2ttOH_aU"
      },
      "cell_type": "code",
      "source": [
        "age_balance1 = pd.DataFrame(dataset7.groupby(['age_group','balance_group'])['response_binary'].sum())\n",
        "age_balance2 = pd.DataFrame(dataset7.groupby(['age_group','balance_group'])['response'].count())\n",
        "\n",
        "age_balance1['response'] = age_balance2['response']\n",
        "age_balance1['response_rate'] = age_balance1['response_binary']/ (age_balance1['response'])\n",
        "age_balance1 = age_balance1.drop(['response_binary','response'],axis =1)\n",
        "\n",
        "age_balance1 = age_balance1.unstack()"
      ],
      "execution_count": null,
      "outputs": []
    },
    {
      "metadata": {
        "scrolled": true,
        "trusted": false,
        "id": "Z4gT04EaH_aU"
      },
      "cell_type": "code",
      "source": [
        "age_bal = age_balance1.plot(kind='bar',figsize = (10,6))\n",
        "\n",
        "# Set x ticks\n",
        "plt.xticks(np.arange(5),('<30', '30-39', '40-49', '50-59', '60+'),rotation = 'horizontal')\n",
        "\n",
        "# Set legend\n",
        "plt.legend(['Average Balance','High Balance','Low Balance','No Balance'],loc = 'best',ncol = 1)\n",
        "\n",
        "plt.ylabel('Subscription Rate')\n",
        "plt.xlabel('Age Group')\n",
        "plt.title('The Subscription Rate of Different Balance Levels in Each Age Group')\n",
        "plt.show()"
      ],
      "execution_count": null,
      "outputs": []
    },
    {
      "metadata": {
        "id": "Qif6UgqZH_aU"
      },
      "cell_type": "markdown",
      "source": [
        "**Insights: target older clients with high balance levels**\n",
        "\n",
        "While age represents a person’s life stage and balance represents a person’s financial condition, jointly evaluating the impact of these two factors enables us to investigate if there is a common trend across all ages, and to identify which combination of client features indicates the highest likelihood of subscription.\n",
        "\n",
        "In order to investigate the combined effect of age and balance on a client’s decision, we performed a two-layer grouping, segmenting customers according to their balance levels within each age group.\n",
        "\n",
        "* The graph tells the same story regarding the subscription rate for different age groups: **the willingness to subscribe is exceptionally high for people aged above 60 and younger people aged below 30** also have a distinguishable higher subscription rate than those of other age groups.\n",
        "\n",
        "\n",
        "* Furthermore, **the effect of balance levels on subscription decision is applicable to each individual age group**: every age group shares a common trend that the percentage of subscription increases with balance.\n",
        "\n",
        "In sum, the bank should **prioritize its telemarketing to clients who are above 60 years old and have positive balances**, because they have the highest acceptance rate of about 35%. The next group the bank should focus on is **young clients with positive balances**, who showed high subscription rates between 15% and 20%."
      ]
    },
    {
      "metadata": {
        "id": "2OXztVloH_aV"
      },
      "cell_type": "markdown",
      "source": [
        "### 4.4 Visualize the subscription rate by job"
      ]
    },
    {
      "metadata": {
        "trusted": false,
        "id": "6iDb8GNUH_aV"
      },
      "cell_type": "code",
      "source": [
        "count_job_response_pct = pd.crosstab(dataset7['response'],dataset7['job']).apply(lambda x: x/x.sum() * 100)\n",
        "count_job_response_pct = count_job_response_pct.transpose()"
      ],
      "execution_count": null,
      "outputs": []
    },
    {
      "metadata": {
        "trusted": false,
        "id": "L8OiH1eWH_aV"
      },
      "cell_type": "code",
      "source": [
        "plot_job = count_job_response_pct['yes'].sort_values(ascending = True).plot(kind ='barh',\n",
        "                                                                           figsize = (12,6))\n",
        "\n",
        "plt.title('Subscription Rate by Job')\n",
        "plt.xlabel('Subscription Rate')\n",
        "plt.ylabel('Job Category')\n",
        "\n",
        "# Label each bar\n",
        "for rec, label in zip(plot_job.patches,\n",
        "                      count_job_response_pct['yes'].sort_values(ascending = True).round(1).astype(str)):\n",
        "    plot_job.text(rec.get_width()+0.8,\n",
        "                  rec.get_y()+ rec.get_height()-0.5,\n",
        "                  label+'%',\n",
        "                  ha = 'center',\n",
        "                  va='bottom')"
      ],
      "execution_count": null,
      "outputs": []
    },
    {
      "metadata": {
        "id": "KJAwky0OH_aV"
      },
      "cell_type": "markdown",
      "source": [
        "**Insights: target students and retired clients**\n",
        "\n",
        "As noted from the horizontal bar chart, students and retired clients account for more than 50% of subscription, which is consistent with the previous finding of higher subscription rates among the younger and older."
      ]
    },
    {
      "metadata": {
        "id": "n6yQoSGEH_aV"
      },
      "cell_type": "markdown",
      "source": [
        "### 4.5 Visualize the subscription and contact rate by month"
      ]
    },
    {
      "metadata": {
        "scrolled": true,
        "trusted": false,
        "id": "FGTDimTuH_aV"
      },
      "cell_type": "code",
      "source": [
        "count_month_response_pct = pd.crosstab(dataset7['response'],dataset7['month_int']).apply(lambda x: x/x.sum() * 100)\n",
        "count_month_response_pct = count_month_response_pct.transpose()"
      ],
      "execution_count": null,
      "outputs": []
    },
    {
      "metadata": {
        "trusted": false,
        "id": "dUh_5IjwH_aV"
      },
      "cell_type": "code",
      "source": [
        "month = pd.DataFrame(dataset7['month_int'].value_counts())\n",
        "month['% Contacted'] = month['month_int']*100/month['month_int'].sum()\n",
        "month['% Subscription'] = count_month_response_pct['yes']\n",
        "month.drop('month_int',axis = 1,inplace = True)\n",
        "\n",
        "month['Month'] = [5,7,8,6,11,4,2,1,10,9,3,12]\n",
        "month = month.sort_values('Month',ascending = True)"
      ],
      "execution_count": null,
      "outputs": []
    },
    {
      "metadata": {
        "scrolled": true,
        "trusted": false,
        "id": "SDFwHUVbH_aV"
      },
      "cell_type": "code",
      "source": [
        "plot_month = month[['% Subscription','% Contacted']].plot(kind ='line',\n",
        "                                                          figsize = (10,6),\n",
        "                                                          marker = 'o')\n",
        "\n",
        "plt.title('Subscription vs. Contact Rate by Month')\n",
        "plt.ylabel('Subscription and Contact Rate')\n",
        "plt.xlabel('Month')\n",
        "\n",
        "ticks = np.arange(1,13,1)\n",
        "plt.xticks(ticks)\n",
        "\n",
        "# Annotation: peak of contact\n",
        "y = month['% Contacted'].max()\n",
        "x = month['% Contacted'].idxmax()\n",
        "plt.annotate('May: Peak of contact', xy=(x+0.1, y+0.1), xytext=(x+1,y+4), arrowprops=dict(facecolor='black', headwidth=6, width=1, headlength=4), horizontalalignment='left', verticalalignment='top')\n",
        "\n",
        "# Annotation: peak of subscription rate\n",
        "y = month['% Subscription'].max()\n",
        "x = month['% Subscription'].idxmax()\n",
        "plt.annotate('March: Peak Subscription rate', xy=(x+0.1, y+0.1), xytext=(x+1,y+1), arrowprops=dict(facecolor='black', headwidth=6, width=1, headlength=4), horizontalalignment='left', verticalalignment='top')\n",
        "\n",
        "plt.show()"
      ],
      "execution_count": null,
      "outputs": []
    },
    {
      "metadata": {
        "id": "gIY4GqK-H_aV"
      },
      "cell_type": "markdown",
      "source": [
        "**Insights: initiate the telemarketing campaign in fall or spring**\n",
        "\n",
        "Besides customer characteristics, external factors may also have an impact on the subscription rate, such as seasons and the time of calling. So the month of contact is also analyzed here.  \n",
        "\n",
        "This line chart displays the bank’s contact rate in each month as well as clients’ response rate in each month. One way to evaluate the effectiveness of the bank's marketing plan is to see whether these two lines have a similar trend over the same time horizon.\n",
        "* The bank **contacted most clients between May and August**. The highest contact rate is around 30%, which happened in May, while the contact rate is closer to 0 in March, September, October, and December.\n",
        "\n",
        "\n",
        "* However, the subscription rate showed a different trend. **The highest subscription rate occurred in March**, which is over 50%, and all subscription rates in **September, October, and December** are over 40%.\n",
        "\n",
        "Clearly, **these two lines move in different directions which strongly indicates the inappropriate timing of the bank’s marketing campaign**. To improve the marketing campaign, the bank should consider initiating the telemarketing campaign in fall and spring when the subscription rate tends to be higher.\n",
        "\n",
        "Nevertheless, the bank should be cautious when analyzing external factors. More data from previous marketing campaign should be collected and analyzed to make sure that this seasonal effect is constant over time and applicable to the future.\n"
      ]
    },
    {
      "metadata": {
        "id": "VubXqzxaH_aW"
      },
      "cell_type": "markdown",
      "source": [
        "# Part 5. Machine Learning: Classification"
      ]
    },
    {
      "metadata": {
        "id": "R2Z5wSLzH_aW"
      },
      "cell_type": "markdown",
      "source": [
        "The main objective of this project is to identify the most responsive customers before the marketing campaign so that the bank will be able to efficiently reach out to them, saving time and marketing resources. To achieve this objective, classification algorithms will be employed. By analyzing customer statistics, a classification model will be built to classify all clients into two groups: \"yes\" to term deposits and \"no\" to term deposits."
      ]
    },
    {
      "metadata": {
        "id": "LY_dfHmCH_aW"
      },
      "cell_type": "markdown",
      "source": [
        "## Load the cleaned dataset"
      ]
    },
    {
      "metadata": {
        "trusted": false,
        "id": "FcFnZm6kH_aW"
      },
      "cell_type": "code",
      "source": [
        "linkname = '../input/bank_cleaned.csv'\n",
        "dataset = read_csv(linkname)\n",
        "dataset = dataset.drop(['Unnamed: 0'], axis=1)"
      ],
      "execution_count": null,
      "outputs": []
    },
    {
      "metadata": {
        "trusted": false,
        "id": "ZBxiTKmiH_aW"
      },
      "cell_type": "code",
      "source": [
        "# View the first 5 rows of cleaned data\n",
        "dataset.head()"
      ],
      "execution_count": null,
      "outputs": []
    },
    {
      "metadata": {
        "id": "Tlm5iGu-H_aW"
      },
      "cell_type": "markdown",
      "source": [
        "## Prepare Data for Classification"
      ]
    },
    {
      "metadata": {
        "id": "cKTnA5GWH_aW"
      },
      "cell_type": "markdown",
      "source": [
        "### 5.1 Select variables relevant to customers"
      ]
    },
    {
      "metadata": {
        "id": "Dv13LlYjH_aW"
      },
      "cell_type": "markdown",
      "source": [
        "Only the most relevant customer information is considered, which includes job title, education, age, balance, default record, housing record and loan record. Other information, such as ‘the number of contacts performed before this campaign’, is omitted because it is not directly related to customers themselves."
      ]
    },
    {
      "metadata": {
        "trusted": false,
        "id": "u4aYM1_lH_aW"
      },
      "cell_type": "code",
      "source": [
        "dataset.drop(['marital'],axis=1, inplace=True)\n",
        "dataset1 = dataset.iloc[:, 0:7]"
      ],
      "execution_count": null,
      "outputs": []
    },
    {
      "metadata": {
        "id": "Q9ht90yWH_aW"
      },
      "cell_type": "markdown",
      "source": [
        "### 5.2 Tranform categorical data into dummy variables"
      ]
    },
    {
      "metadata": {
        "id": "F4Fs66G4H_aW"
      },
      "cell_type": "markdown",
      "source": [
        "Since machine learning algorithms only take numerical values, all five categorical variables (job, education, default, housing and loan) are transformed into dummy variables.\n",
        "\n",
        "Dummy variables were used instead of continuous integers because these categorical variables are not ordinal. They simply represent different types rather than levels, so dummy variables are ideal to distinguish the effect of different categories."
      ]
    },
    {
      "metadata": {
        "trusted": false,
        "id": "271j7pGEH_aX"
      },
      "cell_type": "code",
      "source": [
        "dataset2 = pd.get_dummies(dataset1, columns = ['job'])\n",
        "dataset2 = pd.get_dummies(dataset2, columns = ['education'])\n",
        "dataset2['housing'] = dataset2['housing'].map({'yes': 1, 'no': 0})\n",
        "dataset2['default'] = dataset2['default'].map({'yes': 1, 'no': 0})\n",
        "dataset2['loan'] = dataset2['loan'].map({'yes': 1, 'no': 0})\n",
        "dataset_response = pd.DataFrame(dataset['response_binary'])\n",
        "dataset2 = pd.merge(dataset2, dataset_response, left_index = True, right_index = True)"
      ],
      "execution_count": null,
      "outputs": []
    },
    {
      "metadata": {
        "id": "CTOHXEiYH_aX"
      },
      "cell_type": "markdown",
      "source": [
        "### 5.3 Feature selection"
      ]
    },
    {
      "metadata": {
        "id": "CJXDQFh4H_aX"
      },
      "cell_type": "markdown",
      "source": [
        "The values of the first 20 columns, which contain customer statistics, are selected as features while the value of the last column, 'campaign outcome', is set as target."
      ]
    },
    {
      "metadata": {
        "trusted": false,
        "id": "Fb4NZwksH_aX"
      },
      "cell_type": "code",
      "source": [
        "array = dataset2.values\n",
        "\n",
        "# Features: first 20 columns\n",
        "X = array[:,0:-1]\n",
        "\n",
        "# Target variable: 'response_binary'\n",
        "Y = array[:,-1]"
      ],
      "execution_count": null,
      "outputs": []
    },
    {
      "metadata": {
        "id": "0j0NdAbvH_aX"
      },
      "cell_type": "markdown",
      "source": [
        "### 5.4 Train/ test split"
      ]
    },
    {
      "metadata": {
        "trusted": false,
        "id": "eSei6acfH_aX"
      },
      "cell_type": "code",
      "source": [
        "from sklearn.model_selection import train_test_split\n",
        "from sklearn.model_selection import cross_val_score\n",
        "from sklearn.model_selection import KFold\n",
        "from sklearn.metrics import accuracy_score"
      ],
      "execution_count": null,
      "outputs": []
    },
    {
      "metadata": {
        "trusted": false,
        "id": "2apVe9vfH_aX"
      },
      "cell_type": "code",
      "source": [
        "# 20% of the data will be used for testing\n",
        "test_size= 0.20\n",
        "seed = 7\n",
        "X_train, X_test, Y_train, Y_test= train_test_split(X, Y, test_size=test_size, random_state=seed)"
      ],
      "execution_count": null,
      "outputs": []
    },
    {
      "metadata": {
        "id": "gUsdIEr-H_aX"
      },
      "cell_type": "markdown",
      "source": [
        "## Compare classification algorithms"
      ]
    },
    {
      "metadata": {
        "id": "nUe9nT3yH_aX"
      },
      "cell_type": "markdown",
      "source": [
        "Four different classification algorithms (Logistic Regression, K-Neighbors Classifier, Decision Tree Classifier, and Gaussian NB) are run on the dataset and the best-performing one will be used to build the classification model.  "
      ]
    },
    {
      "metadata": {
        "trusted": false,
        "id": "-f0ZQP-MH_aX"
      },
      "cell_type": "code",
      "source": [
        "from sklearn.linear_model import LogisticRegression\n",
        "from sklearn.neighbors import KNeighborsClassifier\n",
        "from sklearn.tree import DecisionTreeClassifier\n",
        "from sklearn.naive_bayes import GaussianNB"
      ],
      "execution_count": null,
      "outputs": []
    },
    {
      "metadata": {
        "trusted": false,
        "id": "gKJRZPQxH_aX"
      },
      "cell_type": "code",
      "source": [
        "models = []\n",
        "models.append(('LR', LogisticRegression()))\n",
        "models.append(('KNN', KNeighborsClassifier()))\n",
        "models.append(('CART', DecisionTreeClassifier()))\n",
        "models.append(('NB', GaussianNB()))"
      ],
      "execution_count": null,
      "outputs": []
    },
    {
      "metadata": {
        "trusted": false,
        "id": "sM3UadvWH_aY"
      },
      "cell_type": "code",
      "source": [
        "results_c = []\n",
        "names_c = []\n",
        "\n",
        "for name, model in models:\n",
        "    # define how to split off validation data ('kfold' how many folds)\n",
        "    kfold = KFold(n_splits=10, random_state=seed)\n",
        "    # train the model\n",
        "    cv_results = cross_val_score(model, X_train, Y_train, cv=kfold, scoring='accuracy')\n",
        "    results_c.append(cv_results)\n",
        "    names_c.append(name)\n",
        "    msg = \"%s: %f (%f)\" % (name, cv_results.mean(), cv_results.std())\n",
        "    print(msg)"
      ],
      "execution_count": null,
      "outputs": []
    },
    {
      "metadata": {
        "trusted": false,
        "id": "-srIkMcJH_aY"
      },
      "cell_type": "code",
      "source": [
        "fig = plt.figure()\n",
        "fig.suptitle('Perfomance of Classification Algorithms')\n",
        "ax = fig.add_subplot(111)\n",
        "plt.boxplot(results_c)\n",
        "ax.set_xticklabels(names_c)\n",
        "plt.show()"
      ],
      "execution_count": null,
      "outputs": []
    },
    {
      "metadata": {
        "id": "XNM--YunH_aY"
      },
      "cell_type": "markdown",
      "source": [
        "**Logistic regression is the best performing model.**\n",
        "\n",
        "Among all algorithms, logistic regression achieved an accuracy of about 88%, suggesting a high level of strength of this model to classify the customer response given all the defined customer features."
      ]
    },
    {
      "metadata": {
        "id": "nYnTpO4KH_aY"
      },
      "cell_type": "markdown",
      "source": [
        "## Test LR model on the test set"
      ]
    },
    {
      "metadata": {
        "trusted": false,
        "id": "0za177oWH_aY"
      },
      "cell_type": "code",
      "source": [
        "LR = LogisticRegression()\n",
        "LR.fit(X_train, Y_train)"
      ],
      "execution_count": null,
      "outputs": []
    },
    {
      "metadata": {
        "id": "xkY7jj3kH_aY"
      },
      "cell_type": "markdown",
      "source": [
        "## Evalute LR Model"
      ]
    },
    {
      "metadata": {
        "scrolled": true,
        "trusted": false,
        "id": "W3dpazBPH_aY"
      },
      "cell_type": "code",
      "source": [
        "predictions = LR.predict(X_test)"
      ],
      "execution_count": null,
      "outputs": []
    },
    {
      "metadata": {
        "trusted": false,
        "id": "Iq1_T9HXH_aY"
      },
      "cell_type": "code",
      "source": [
        "# Accuracy Score\n",
        "print(accuracy_score(Y_test, predictions))"
      ],
      "execution_count": null,
      "outputs": []
    },
    {
      "metadata": {
        "id": "vhho6tXwH_aY"
      },
      "cell_type": "markdown",
      "source": [
        "Accuracy score is the percentage of correct predictions out of all predictions made. The LR algorithm achieves an accuracy of 89.08%, suggesting high level of strength of this model to classify the customer response given all the defined customer features."
      ]
    },
    {
      "metadata": {
        "scrolled": true,
        "trusted": false,
        "id": "f1wNkM-ZH_aY"
      },
      "cell_type": "code",
      "source": [
        "# Confusion Matrix\n",
        "from sklearn.metrics import confusion_matrix\n",
        "import pylab as pl\n",
        "\n",
        "print(confusion_matrix(Y_test, predictions))\n",
        "\n",
        "cm = confusion_matrix(Y_test, predictions)\n",
        "pl.matshow(cm)\n",
        "pl.title('Confusion matrix of the classifier')\n",
        "pl.colorbar()\n",
        "pl.show()"
      ],
      "execution_count": null,
      "outputs": []
    },
    {
      "metadata": {
        "id": "7-qur66tH_aY"
      },
      "cell_type": "markdown",
      "source": [
        "**However, the result of accuracy score can possibly yield misleading result if the data set is unbalanced, because the number of observations in different classes largely vary.**\n",
        "\n",
        "A confusion matrix gives a detailed breakdown of prediction result and error types. Each cell in the matrix represents a combination of instances of the predicted response and the actual response. In the test set, the matrix proves that the algorithm performed well because most test results (7277 True Positive predictions) locate on the diagonal cells which represent correct predictions. 891 tests (False negative) predicted the bank’s client would subscribe to the term deposit but they actually did not.\n",
        "\n",
        "**A problem revealed by this confusion matrix is that the dataset is highly unbalanced, with nearly all client actually decline to subscribe.** This infers that the accuracy score is biased, and further evaluation should be carried out to determine the accuracy of logistic regression model."
      ]
    },
    {
      "metadata": {
        "scrolled": false,
        "trusted": false,
        "id": "osyAa4BtH_aZ"
      },
      "cell_type": "code",
      "source": [
        "# Classification Report\n",
        "from sklearn.metrics import classification_report\n",
        "print(classification_report(Y_test, predictions))"
      ],
      "execution_count": null,
      "outputs": []
    },
    {
      "metadata": {
        "id": "IJ_F-AEeH_aZ"
      },
      "cell_type": "markdown",
      "source": [
        "Classification report shows the precision, recall, F1 and support scores for the LR classification model.\n",
        "* Precision of 0 (the client said no) represents that for all instances predicted as no subscription, the percentage of clients that actually said no is 89%.\n",
        "* Recall is the ability of a classifier to find all positive instances. Recall of 0 indicates that for all clients that actually said no, the model predicts 100% correctly that they would decline the offer.\n",
        "\n",
        "In general, the report shows that **LR model has great predictive power to identify the customers who would not subscribe to the term deposit**. However, because of the limited number of clients accepting the term deposit, there is a **need for stratified sampling or rebalancing to deal with this structural weakness** before we conclude whether LR algorithm can accurately classify those who are more likely to subscribe."
      ]
    },
    {
      "metadata": {
        "id": "q7wEbhd6H_aZ"
      },
      "cell_type": "markdown",
      "source": [
        "# Part 6. Machine Learning: Regression"
      ]
    },
    {
      "metadata": {
        "id": "vcyQDFtTH_aZ"
      },
      "cell_type": "markdown",
      "source": [
        "Regression analysis is carried out to complement the classification result and help the bank better predict campaign outcome based on customer statistics.\n",
        "\n",
        "Since the duration of a phone call is positively correlated with the campaign outcome, it can serve as another indicator of the possibility of subscription. In this part, regression algorithms will be used to estimate the duration of a phone call, helping the bank better predict subscription rate."
      ]
    },
    {
      "metadata": {
        "id": "fgLXBGrUH_aZ"
      },
      "cell_type": "markdown",
      "source": [
        "## Prepare Data for Regression"
      ]
    },
    {
      "metadata": {
        "trusted": false,
        "id": "RK800i7hH_aZ"
      },
      "cell_type": "code",
      "source": [
        "dataset4 = dataset2.drop(['response_binary'],axis = 1)\n",
        "dataset4['duration'] = dataset['duration']"
      ],
      "execution_count": null,
      "outputs": []
    },
    {
      "metadata": {
        "id": "v_7OpD_pH_aZ"
      },
      "cell_type": "markdown",
      "source": [
        "### 6.1 Feature selection"
      ]
    },
    {
      "metadata": {
        "id": "sIsmjMgVH_aZ"
      },
      "cell_type": "markdown",
      "source": [
        "The values of the first 19 columns, which contain customer statistics, are selected as features while the value of the last column, 'duration', is set as target."
      ]
    },
    {
      "metadata": {
        "trusted": false,
        "id": "01MJ8fu9H_aZ"
      },
      "cell_type": "code",
      "source": [
        "array = dataset4.values\n",
        "X = array[:,0:20]\n",
        "Y = array[:,20]"
      ],
      "execution_count": null,
      "outputs": []
    },
    {
      "metadata": {
        "id": "oOTGX-ZwH_aZ"
      },
      "cell_type": "markdown",
      "source": [
        "### 6.2 Train/ test split"
      ]
    },
    {
      "metadata": {
        "trusted": false,
        "id": "JnBTrDREH_aZ"
      },
      "cell_type": "code",
      "source": [
        "test_size= 0.20\n",
        "seed = 10\n",
        "X_train, X_test, Y_train, Y_test= train_test_split(X, Y, test_size=test_size, random_state=seed)"
      ],
      "execution_count": null,
      "outputs": []
    },
    {
      "metadata": {
        "id": "RU2yxFC6H_aa"
      },
      "cell_type": "markdown",
      "source": [
        "## Compare regression algorithms"
      ]
    },
    {
      "metadata": {
        "id": "sUbg-IRoH_aa"
      },
      "cell_type": "markdown",
      "source": [
        "Six different regression algorithms (Linear Regression, Lasso, Ridge, ElasticNet, K Neighbors and Decision Tree) are run on the dataset and the best-performing one will be used to build the estimation model.  "
      ]
    },
    {
      "metadata": {
        "trusted": false,
        "id": "CLoJrabFH_aa"
      },
      "cell_type": "code",
      "source": [
        "from sklearn.linear_model import LinearRegression\n",
        "from sklearn.linear_model import Lasso\n",
        "from sklearn.linear_model import Ridge\n",
        "from sklearn.linear_model import ElasticNet\n",
        "from sklearn.neighbors import KNeighborsRegressor\n",
        "from sklearn.tree import DecisionTreeRegressor"
      ],
      "execution_count": null,
      "outputs": []
    },
    {
      "metadata": {
        "trusted": false,
        "id": "9AkepXsAH_aa"
      },
      "cell_type": "code",
      "source": [
        "models = []\n",
        "models.append(('LR', LinearRegression()))\n",
        "models.append(('LASSO', Lasso()))\n",
        "models.append(('RIDGE', Ridge()))\n",
        "models.append(('EN', ElasticNet()))\n",
        "models.append(('KNN', KNeighborsRegressor()))\n",
        "models.append(('CART', DecisionTreeRegressor()))"
      ],
      "execution_count": null,
      "outputs": []
    },
    {
      "metadata": {
        "trusted": false,
        "id": "FjwDPbawH_aa"
      },
      "cell_type": "code",
      "source": [
        "results_e2 = []\n",
        "names_e2 = []\n",
        "\n",
        "for name, model in models:\n",
        "    # define how to split off validation data\n",
        "    kfold = KFold(n_splits=10, random_state=seed)\n",
        "\n",
        "    # train the model\n",
        "    cv_results = cross_val_score(model, X_train, Y_train, cv=kfold, scoring='neg_mean_squared_error')\n",
        "    results_e2.append(cv_results)\n",
        "    names_e2.append(name)\n",
        "    msg = \"%s: %f (%f)\" % (name, cv_results.mean(), cv_results.std())\n",
        "    print(msg)"
      ],
      "execution_count": null,
      "outputs": []
    },
    {
      "metadata": {
        "trusted": false,
        "id": "gEZL1btXH_aa"
      },
      "cell_type": "code",
      "source": [
        "# Plot results\n",
        "fig = plt.figure(figsize=(9,6))\n",
        "ax = fig.add_subplot(111)\n",
        "plt.boxplot(results_e2)\n",
        "\n",
        "fig.suptitle('Algorithm Comparison')\n",
        "ax.set_xticklabels(names_e2)\n",
        "plt.show()"
      ],
      "execution_count": null,
      "outputs": []
    },
    {
      "metadata": {
        "id": "B4_xKKj9H_aa"
      },
      "cell_type": "markdown",
      "source": [
        "**Ridge regression slightly outperforms other models.**"
      ]
    },
    {
      "metadata": {
        "id": "heQREudAH_aa"
      },
      "cell_type": "markdown",
      "source": [
        "## Stardardize Data"
      ]
    },
    {
      "metadata": {
        "trusted": false,
        "id": "bIAepUDCH_aa"
      },
      "cell_type": "code",
      "source": [
        "from sklearn.pipeline import Pipeline\n",
        "from sklearn.preprocessing import StandardScaler\n",
        "\n",
        "pipelines = []\n",
        "pipelines.append(('ScaledLR', Pipeline([('Scaler', StandardScaler()),('LR', LinearRegression())])))\n",
        "pipelines.append(('ScaledLASSO', Pipeline([('Scaler', StandardScaler()),('LASSO', Lasso())])))\n",
        "pipelines.append(('ScaledRIDGE', Pipeline([('Scaler', StandardScaler()),('RIDGE', Ridge())])))\n",
        "pipelines.append(('ScaledEN', Pipeline([('Scaler', StandardScaler()),('EN', ElasticNet())])))\n",
        "pipelines.append(('ScaledKNN', Pipeline([('Scaler', StandardScaler()),('KNN', KNeighborsRegressor())])))\n",
        "pipelines.append(('ScaledCART', Pipeline([('Scaler', StandardScaler()),('CART', DecisionTreeRegressor())])))"
      ],
      "execution_count": null,
      "outputs": []
    },
    {
      "metadata": {
        "trusted": false,
        "id": "ET0RL12MH_aa"
      },
      "cell_type": "code",
      "source": [
        "results_e2_normalized = []\n",
        "names_e2_normalized = []\n",
        "\n",
        "for name, model in pipelines:\n",
        "    # define how to split off validation data\n",
        "    kfold = KFold(n_splits=10, random_state=seed)\n",
        "\n",
        "    # train the model\n",
        "    cv_results = cross_val_score(model, X_train, Y_train, cv=kfold, scoring='neg_mean_squared_error')\n",
        "    results_e2_normalized.append(cv_results)\n",
        "    names_e2_normalized.append(name)\n",
        "    msg = \"%s: %f (%f)\" % (name, cv_results.mean(), cv_results.std())\n",
        "    print(msg)"
      ],
      "execution_count": null,
      "outputs": []
    },
    {
      "metadata": {
        "scrolled": true,
        "trusted": false,
        "id": "lZisasScH_aa"
      },
      "cell_type": "code",
      "source": [
        "# Plot results\n",
        "fig = plt.figure(figsize=(9,6))\n",
        "ax = fig.add_subplot(111)\n",
        "plt.boxplot(results_e2_normalized)\n",
        "\n",
        "fig.suptitle('Algorithm Comparison')\n",
        "ax.set_xticklabels(names_e2_normalized)\n",
        "plt.show()"
      ],
      "execution_count": null,
      "outputs": []
    },
    {
      "metadata": {
        "id": "YPhkiOZgH_ab"
      },
      "cell_type": "markdown",
      "source": [
        "**After standardization, ridge regression is still the best-performing model.**"
      ]
    },
    {
      "metadata": {
        "id": "niOgMc21H_ab"
      },
      "cell_type": "markdown",
      "source": [
        "## Test RIDGE model on the test set"
      ]
    },
    {
      "metadata": {
        "trusted": false,
        "id": "Q2Jj391IH_ab"
      },
      "cell_type": "code",
      "source": [
        "ridge = Ridge()\n",
        "ridge.fit(X_train, Y_train)\n",
        "predicted_y = ridge.predict(X_test)"
      ],
      "execution_count": null,
      "outputs": []
    },
    {
      "metadata": {
        "id": "iAEKIGcDH_ab"
      },
      "cell_type": "markdown",
      "source": [
        "## Evaluate RIDGE Model"
      ]
    },
    {
      "metadata": {
        "scrolled": true,
        "trusted": false,
        "id": "9xUCMpakH_ab"
      },
      "cell_type": "code",
      "source": [
        "from sklearn.metrics import mean_squared_error\n",
        "print('The MSE is', mean_squared_error(Y_test, predicted_y))"
      ],
      "execution_count": null,
      "outputs": []
    },
    {
      "metadata": {
        "id": "zENeCcytH_ab"
      },
      "cell_type": "markdown",
      "source": [
        "According to the previous analysis, observations on duration are extremely varied from 0.1 to 81.97 minutes in this dataset. Therefore, a 17.78 MSE testifies that ridge regression is a sound model in predicting the target variable and suggest that the bank can roughly estimate the duration of campaign calls of each client using their customer profiles such as age, job, and loans."
      ]
    },
    {
      "metadata": {
        "id": "1-FMyFWmH_ab"
      },
      "cell_type": "markdown",
      "source": [
        "# Part 7. Conclusion & Recommendations"
      ]
    },
    {
      "metadata": {
        "id": "ylC1BerHH_ab"
      },
      "cell_type": "markdown",
      "source": [
        "**The main objective of this project is to increase the effectiveness of the bank's telemarketing campaign, which was successfully met through data analysis,  visualization and analytical model building. A target customer profile was  established while classification and regression models were built to predict customers' response to the term deposit campaign.**\n",
        "\n",
        "## Conclusion:\n",
        "\n",
        "According to previous analysis, a target customer profile can be established. The most responsive customers possess these features:\n",
        "* Feature 1: age < 30 or age > 60\n",
        "* Feature 2: students or retired people\n",
        "* Feature 3: a balance of more than 5000 euros\n",
        "\n",
        "By applying logistic and ridge regression algorithms, classification and estimation model were successfully built. With these two models, the bank will be able to predict a customer's response to its telemarketing campaign before calling this customer. In this way, the bank can allocate more marketing efforts to the clients who are classified as highly likely to accept term deposits, and call less to those who are unlikely to make term deposits.\n",
        "\n",
        "In addition, predicting duration before calling and adjusting marketing plan benefit both the bank and its clients. On the one hand, it will increase the efficiency of the bank’s telemarketing campaign, saving time and efforts. On the other hand, it prevents some clients from receiving undesirable advertisements, raising customer satisfaction. With the aid of logistic and ridge regression models, the bank can enter a virtuous cycle of effective marketing, more investments and happier customers."
      ]
    },
    {
      "metadata": {
        "id": "coUBnlXQH_ab"
      },
      "cell_type": "markdown",
      "source": [
        "## Recommendations\n",
        "\n",
        "**1. More appropriate timing**\n",
        "\n",
        "When implementing a marketing strategy, external factors, such as the time of calling, should also be carefully considered. The previous analysis points out that March, September, October and December had the highest success rates. Nevertheless, more data should be collected and analyzed to make sure that this seasonal effect is constant over time. If the trend has the potential to continue in the future, the bank should consider initiating its telemarketing campaign in fall and spring.\n",
        "\n",
        "**2. Smarter marketing design**\n",
        "\n",
        "By targeting the right customers, the bank will have more and more positive responses, and the classification algorithms would ultimately eliminate the imbalance in the original dataset. Hence, more accurate information will be presented to the bank for improving the subscriptions. Meanwhile, to increase the likelihood of subscription, the bank should re-evaluate the content and design of its current campaign, making it more appealing to its target customers.\n",
        "\n",
        "**3. Better services provision**\n",
        "\n",
        "With a more granular understanding of its customer base, the bank has the ability to provide better banking services.\n",
        "For example, marital status and occupation reveal a customer's life stage while loan status indicates his/her overall risk profile. With this information, the bank can estimate when a customer might need to make an investment. In this way, the bank can better satisfy its customer demand by providing banking services for the right customer at the right time."
      ]
    }
  ],
  "metadata": {
    "kernelspec": {
      "display_name": "Python 3",
      "language": "python",
      "name": "python3"
    },
    "language_info": {
      "codemirror_mode": {
        "name": "ipython",
        "version": 3
      },
      "file_extension": ".py",
      "mimetype": "text/x-python",
      "name": "python",
      "nbconvert_exporter": "python",
      "pygments_lexer": "ipython3",
      "version": "3.6.8"
    },
    "colab": {
      "provenance": [],
      "include_colab_link": true
    }
  },
  "nbformat": 4,
  "nbformat_minor": 0
}