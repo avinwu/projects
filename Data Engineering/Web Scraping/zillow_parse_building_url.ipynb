{
 "cells": [
  {
   "cell_type": "code",
   "execution_count": null,
   "id": "e00e3dd1",
   "metadata": {},
   "outputs": [],
   "source": [
    "file1 = open('../data/log.txt', 'r')\n",
    "Lines = file1.readlines()"
   ]
  },
  {
   "cell_type": "code",
   "execution_count": null,
   "id": "869256b8",
   "metadata": {},
   "outputs": [],
   "source": [
    "dict = {}\n",
    "for line in Lines:\n",
    "    if line[:9]=='[FAILURE]': \n",
    "        url = line.split(' ')[5]\n",
    "        err = line.split('[ERROR] ')[1]\n",
    "        print(url+','+err)\n",
    "        #dict[url] = err\n",
    "    #print(line)"
   ]
  },
  {
   "cell_type": "code",
   "execution_count": null,
   "id": "3bdccd90",
   "metadata": {},
   "outputs": [],
   "source": [
    "df"
   ]
  },
  {
   "cell_type": "code",
   "execution_count": null,
   "id": "3d82e7fa",
   "metadata": {},
   "outputs": [],
   "source": []
  },
  {
   "cell_type": "code",
   "execution_count": null,
   "id": "6e6787a0",
   "metadata": {},
   "outputs": [],
   "source": [
    "import pandas as pd"
   ]
  },
  {
   "cell_type": "code",
   "execution_count": null,
   "id": "9d7a38d1",
   "metadata": {},
   "outputs": [],
   "source": [
    "df = pd.read_csv('../data/zilow_listings_out_buildings_all.csv')\n",
    "print(df.shape)\n",
    "df.head()"
   ]
  },
  {
   "cell_type": "code",
   "execution_count": null,
   "id": "5ccd1e2f",
   "metadata": {},
   "outputs": [],
   "source": [
    "df.columns"
   ]
  },
  {
   "cell_type": "code",
   "execution_count": null,
   "id": "e5343cdc",
   "metadata": {},
   "outputs": [],
   "source": [
    "# lstCols = ['pid','zpid', 'buildingType', 'listingType', 'streetAddress', 'latitude',\n",
    "#        'longitude', 'city', 'state', 'zipcode', 'county', 'buildingName',\n",
    "#        'buildingPhoneNumber', 'buildingAttributes', 'amenitySummary',\n",
    "#        'homeTypes', 'unit_pid', 'unit_url']\n",
    "# df[lstCols].to_csv(\"../data/zilow_listings_out_3_bldg_upd.csv\", index=False)"
   ]
  },
  {
   "cell_type": "code",
   "execution_count": null,
   "id": "d43c78b1",
   "metadata": {},
   "outputs": [],
   "source": []
  },
  {
   "cell_type": "code",
   "execution_count": null,
   "id": "a1d08663",
   "metadata": {},
   "outputs": [],
   "source": []
  },
  {
   "cell_type": "code",
   "execution_count": null,
   "id": "28bc9be1",
   "metadata": {},
   "outputs": [],
   "source": [
    "df['unit_url']"
   ]
  },
  {
   "cell_type": "code",
   "execution_count": null,
   "id": "3aed0c2b",
   "metadata": {},
   "outputs": [],
   "source": [
    "import json\n",
    "\n",
    "lstURL=[]\n",
    "\n",
    "for s in df['unit_url']:\n",
    "    s = s.replace(\"\\'\",\"\\\"\")\n",
    "    lst = json.loads(s)\n",
    "    #print(len(lst))\n",
    "    lstURL += lst\n",
    "          \n",
    "print(len(lstURL))\n",
    "#print(lstURL)"
   ]
  },
  {
   "cell_type": "code",
   "execution_count": null,
   "id": "8045a4df",
   "metadata": {},
   "outputs": [],
   "source": [
    "l[0]"
   ]
  },
  {
   "cell_type": "code",
   "execution_count": null,
   "id": "a2be1072",
   "metadata": {},
   "outputs": [],
   "source": []
  }
 ],
 "metadata": {
  "kernelspec": {
   "display_name": "Python 3 (ipykernel)",
   "language": "python",
   "name": "python3"
  },
  "language_info": {
   "codemirror_mode": {
    "name": "ipython",
    "version": 3
   },
   "file_extension": ".py",
   "mimetype": "text/x-python",
   "name": "python",
   "nbconvert_exporter": "python",
   "pygments_lexer": "ipython3",
   "version": "3.11.5"
  }
 },
 "nbformat": 4,
 "nbformat_minor": 5
}
