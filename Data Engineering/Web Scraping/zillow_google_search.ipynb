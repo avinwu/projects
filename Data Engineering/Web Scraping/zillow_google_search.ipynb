{
 "cells": [
  {
   "cell_type": "code",
   "execution_count": null,
   "id": "736bce84",
   "metadata": {},
   "outputs": [],
   "source": [
    "from bs4 import BeautifulSoup\n",
    "import requests\n",
    "import time\n",
    "from datetime import datetime\n",
    "import pandas as pd"
   ]
  },
  {
   "cell_type": "code",
   "execution_count": null,
   "id": "36eda945",
   "metadata": {},
   "outputs": [],
   "source": [
    "def get_search_result(nIdx, sPID, sAddr):\n",
    "    now = datetime.now()  # current date and time\n",
    "    date_time = now.strftime(\"%m/%d/%Y, %H:%M:%S\")\n",
    "\n",
    "    url = 'https://www.google.com/search'\n",
    "    headers = {\n",
    "        'Accept': '*/*',\n",
    "        'Accept-Language': 'en-US,en;q=0.5',\n",
    "        'accept-encoding': 'gzip,deflate,br',\n",
    "        'User-Agent': 'Mozilla/5.0 (Windows NT 10.0; Win64; x64) AppleWebKit/537.36 (KHTML, like Gecko) Chrome/112.0.0.0 Safari/537.36',\n",
    "    }\n",
    "    headers['Referer'] = sAddr\n",
    "\n",
    "    try:\n",
    "        parameters = {'q': sAddr}\n",
    "        response = requests.get(url, headers=headers, params = parameters)\n",
    "\n",
    "        resp_code = response.status_code\n",
    "        resp_text = response.text\n",
    "        #print(resp_code, resp_text)\n",
    "\n",
    "        if 'name=\"robots\"' in resp_text:\n",
    "            print(f\"[DEBUG] CAPTCHA\")\n",
    "            sys.exit()\n",
    "\n",
    "        #print(f\"[DEBUG] {resp_code} {resp_text}\")\n",
    "\n",
    "        soup = BeautifulSoup(resp_text, 'html.parser')\n",
    "        search = soup.find(id = 'search')\n",
    "        if search:\n",
    "            first_link = search.find('a')\n",
    "            sFirstLink = first_link['href']\n",
    "        else:\n",
    "            sFirstLink = 'err'\n",
    "\n",
    "        sFileOut = sPID + \",\" + sFirstLink + \"\\n\"\n",
    "        f = open(out_file, \"a\")\n",
    "        f.write(sFileOut)\n",
    "        f.close()\n",
    "\n",
    "        print(f\"[SUCCESS] [{date_time}] PID# {nIdx}: {sAddr}\")\n",
    "\n",
    "    except Exception as e:\n",
    "        print(f\"[FAILURE] [{date_time}] PID# {nIdx}: {sAddr} [ERROR] {e}\")"
   ]
  },
  {
   "cell_type": "code",
   "execution_count": null,
   "id": "c79c13dd",
   "metadata": {},
   "outputs": [],
   "source": [
    "if __name__ == \"__main__\":\n",
    "\n",
    "    inp_dir, out_dir = '../data_inp/', '../data_out/'\n",
    "    inp_file = inp_dir + 'google_zillow_addrs_search_inp_2.csv'\n",
    "    out_file = out_dir + 'google_zillow_addrs_search_out_2.csv'\n",
    "    nSleep=5\n",
    "\n",
    "    df = pd.read_csv(inp_file)\n",
    "    dct = df.to_dict('index')\n",
    "\n",
    "    for nIdx in dct.keys():\n",
    "        #nURLIdx += 1\n",
    "        sPID  = dct[nIdx]['property_id']\n",
    "        sAddr = dct[nIdx]['address_str']\n",
    "\n",
    "        get_search_result(nIdx, sPID, sAddr)\n",
    "\n",
    "        # nSleep += 2\n",
    "        # if nSleep>=60: nSleep=10 #Reset sleep time back to 10seconds\n",
    "        time.sleep(nSleep)"
   ]
  },
  {
   "cell_type": "code",
   "execution_count": null,
   "id": "50b87be2",
   "metadata": {},
   "outputs": [],
   "source": []
  },
  {
   "cell_type": "code",
   "execution_count": null,
   "id": "a08ba03a",
   "metadata": {},
   "outputs": [],
   "source": []
  }
 ],
 "metadata": {
  "kernelspec": {
   "display_name": "Python 3 (ipykernel)",
   "language": "python",
   "name": "python3"
  },
  "language_info": {
   "codemirror_mode": {
    "name": "ipython",
    "version": 3
   },
   "file_extension": ".py",
   "mimetype": "text/x-python",
   "name": "python",
   "nbconvert_exporter": "python",
   "pygments_lexer": "ipython3",
   "version": "3.11.5"
  }
 },
 "nbformat": 4,
 "nbformat_minor": 5
}
